{
 "cells": [
  {
   "cell_type": "code",
   "execution_count": 1,
   "id": "6cafcd4f",
   "metadata": {},
   "outputs": [],
   "source": [
    "import os"
   ]
  },
  {
   "cell_type": "markdown",
   "id": "c0edd0fe",
   "metadata": {},
   "source": [
    "## Custom dataset\n",
    "\n",
    "Images should be square and power-of-two."
   ]
  },
  {
   "cell_type": "code",
   "execution_count": 16,
   "id": "93e996b4",
   "metadata": {},
   "outputs": [],
   "source": [
    "import cv2\n",
    "\n",
    "dataset_path = \"C:/0_thesis/dataset/utkface-small-genders/\"\n",
    "resized_images_path = \"C:/0_thesis/1_stylegan/stylegan2-ada-pytorch/dataset/\""
   ]
  },
  {
   "cell_type": "code",
   "execution_count": 24,
   "id": "d95e831f",
   "metadata": {},
   "outputs": [],
   "source": [
    "im_size = 128   # Input image resolution must be a power-of-two otherwise you will get error. \n",
    "                 #Pixel resolutions that are powers of 2 (512 x 512, 1024 x 1024, 2048 x 2048, etc).\n",
    "\n",
    "images = []\n",
    "\n",
    "for root, subdirs, files in os.walk(dataset_path):\n",
    "    if len(subdirs) > 0:\n",
    "        base_dir = root\n",
    "        continue\n",
    "    current_subdir = os.path.split(root)[1]\n",
    "    for filename in files:\n",
    "        in_filepath = os.path.join(dataset_path + current_subdir, filename)\n",
    "        img = cv2.imread(in_filepath)  # reading that image as array\n",
    "        img = cv2.resize(img, (im_size, im_size))\n",
    "        #print(img.shape)\n",
    "        images.append(img)\n",
    "        # Save the image in Output Folder\n",
    "        outdir = resized_images_path + current_subdir\n",
    "        if not os.path.isdir(outdir):\n",
    "            os.mkdir(outdir)\n",
    "        cv2.imwrite(outdir + '/' + str(filename), img)"
   ]
  },
  {
   "cell_type": "markdown",
   "id": "e86424c8",
   "metadata": {},
   "source": [
    "# Train"
   ]
  },
  {
   "cell_type": "code",
   "execution_count": 20,
   "id": "13f4ddca",
   "metadata": {},
   "outputs": [
    {
     "name": "stdout",
     "output_type": "stream",
     "text": [
      "C:\\0_thesis\\1_stylegan\\stylegan2-ada-pytorch\\stylegan2-ada-pytorch-main\n"
     ]
    }
   ],
   "source": [
    "cd C:\\0_thesis\\1_stylegan\\stylegan2-ada-pytorch\\stylegan2-ada-pytorch-main"
   ]
  },
  {
   "cell_type": "code",
   "execution_count": 21,
   "id": "d120e48b",
   "metadata": {},
   "outputs": [],
   "source": [
    "source_path = \"C:/0_thesis/1_stylegan/stylegan2-ada-pytorch/dataset/\"\n",
    "dest_path = \"C:/0_thesis/1_stylegan/stylegan2-ada-pytorch/tfrecords-dataset/\"\n",
    "output_path = \"C:/0_thesis/1_stylegan/stylegan2-ada-pytorch/results\""
   ]
  },
  {
   "cell_type": "code",
   "execution_count": null,
   "id": "ec178751",
   "metadata": {},
   "outputs": [],
   "source": [
    "!pip install click requests tqdm pyspng ninja imageio-ffmpeg==0.4.3\n",
    "!pip install scipy\n",
    "!pip install torch==1.7.1+cu110 torchvision==0.8.2+cu110 torchaudio==0.7.2 -f https://download.pytorch.org/whl/torch_stable.html"
   ]
  },
  {
   "cell_type": "code",
   "execution_count": null,
   "id": "25c1dbd3",
   "metadata": {
    "scrolled": true
   },
   "outputs": [],
   "source": [
    "# PREPARE DATASET\n",
    "!python dataset_tool.py --source=$source_path --dest=$dest_path"
   ]
  },
  {
   "cell_type": "markdown",
   "id": "5a7c6f73",
   "metadata": {},
   "source": [
    "If your dataset is divided in folders based on label and you have created an appropriate json file, add the JSON file in dest_path with the name \"dataset.json\"."
   ]
  },
  {
   "cell_type": "code",
   "execution_count": null,
   "id": "da847e0d",
   "metadata": {},
   "outputs": [],
   "source": [
    "# TRAIN\n",
    "# You need to have a GPU with at least 12 GB.\n",
    "!python train.py --data=$dest_path --outdir=$output_path --workers=2 --batch=16"
   ]
  },
  {
   "cell_type": "markdown",
   "id": "5629752f",
   "metadata": {},
   "source": [
    "# Generate"
   ]
  },
  {
   "cell_type": "code",
   "execution_count": null,
   "id": "5bee8f65",
   "metadata": {},
   "outputs": [],
   "source": [
    "# GENERATE IMAGES\n",
    "pretrained_network = \"https://nvlabs-fi-cdn.nvidia.com/stylegan2-ada-pytorch/pretrained/metfaces.pkl\"\n",
    "!python generate.py --outdir=$output_path --trunc=1 --seeds=85,265,297,849 --network=$pretrained_network"
   ]
  }
 ],
 "metadata": {
  "kernelspec": {
   "display_name": "Python 3 (ipykernel)",
   "language": "python",
   "name": "python3"
  },
  "language_info": {
   "codemirror_mode": {
    "name": "ipython",
    "version": 3
   },
   "file_extension": ".py",
   "mimetype": "text/x-python",
   "name": "python",
   "nbconvert_exporter": "python",
   "pygments_lexer": "ipython3",
   "version": "3.7.16"
  }
 },
 "nbformat": 4,
 "nbformat_minor": 5
}
